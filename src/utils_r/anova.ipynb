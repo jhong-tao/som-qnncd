{
 "cells": [
  {
   "cell_type": "markdown",
   "metadata": {},
   "source": [
    "# 计算模型的AIC和BIC"
   ]
  },
  {
   "cell_type": "code",
   "execution_count": 1,
   "metadata": {
    "vscode": {
     "languageId": "r"
    }
   },
   "outputs": [
    {
     "name": "stderr",
     "output_type": "stream",
     "text": [
      "Loading required package: mvtnorm\n",
      "\n",
      "**********************************\n",
      "** CDM 8.2-6 (2022-08-25 15:43:23)       \n",
      "** Cognitive Diagnostic Models  **\n",
      "**********************************\n",
      "\n",
      "\n"
     ]
    },
    {
     "data": {
      "text/html": [
       "'e:/git/python/som-qnncd/src/utils_r'"
      ],
      "text/latex": [
       "'e:/git/python/som-qnncd/src/utils\\_r'"
      ],
      "text/markdown": [
       "'e:/git/python/som-qnncd/src/utils_r'"
      ],
      "text/plain": [
       "[1] \"e:/git/python/som-qnncd/src/utils_r\""
      ]
     },
     "metadata": {},
     "output_type": "display_data"
    }
   ],
   "source": [
    "library(CDM)\n",
    "getwd()"
   ]
  },
  {
   "cell_type": "code",
   "execution_count": 2,
   "metadata": {
    "vscode": {
     "languageId": "r"
    }
   },
   "outputs": [],
   "source": [
    "q = read.csv('../../data/real/timss07/25_15/q.csv')[-1]\n",
    "resp = read.csv('../../data/real/timss07/25_15/resp.csv')[-1]\n",
    "# q = read.csv('../../data/real/dina/20_3/q.csv')[-1]\n",
    "# resp = read.csv('../../data/real/dina/20_3/resp.csv')[-1]"
   ]
  },
  {
   "cell_type": "code",
   "execution_count": 3,
   "metadata": {
    "vscode": {
     "languageId": "r"
    }
   },
   "outputs": [
    {
     "data": {
      "text/html": [
       "<style>\n",
       ".list-inline {list-style: none; margin:0; padding: 0}\n",
       ".list-inline>li {display: inline-block}\n",
       ".list-inline>li:not(:last-child)::after {content: \"\\00b7\"; padding: 0 .5ex}\n",
       "</style>\n",
       "<ol class=list-inline><li>698</li><li>25</li></ol>\n"
      ],
      "text/latex": [
       "\\begin{enumerate*}\n",
       "\\item 698\n",
       "\\item 25\n",
       "\\end{enumerate*}\n"
      ],
      "text/markdown": [
       "1. 698\n",
       "2. 25\n",
       "\n",
       "\n"
      ],
      "text/plain": [
       "[1] 698  25"
      ]
     },
     "metadata": {},
     "output_type": "display_data"
    }
   ],
   "source": [
    "dim(resp)"
   ]
  },
  {
   "cell_type": "code",
   "execution_count": 4,
   "metadata": {
    "vscode": {
     "languageId": "r"
    }
   },
   "outputs": [
    {
     "ename": "ERROR",
     "evalue": "Error: cannot allocate vector of size 174.5 Mb\n",
     "output_type": "error",
     "traceback": [
      "Error: cannot allocate vector of size 174.5 Mb\nTraceback:\n",
      "1. gdina(resp, q.matrix = q, link = \"logit\", maxit = maxit, progress = progress)",
      "2. gdina_calc_deviance(p.xi.aj = p.xi.aj, attr.prob = attr.prob, \n .     item.patt.freq = item.patt.freq, loglike = loglike, G = G, \n .     IP = IP, regularization = regularization, penalty = penalty, \n .     opt_fct = opt_fct, logprior_value = logprior_value)"
     ]
    }
   ],
   "source": [
    "progress = FALSE\n",
    "maxit = 1000\n",
    "DINA = gdina(resp, q.matrix=q, rule='DINA', maxit=maxit, progress=progress)\n",
    "rRUM = gdina(resp, q.matrix=q, rule='RRUM', maxit=maxit, progress=progress)\n",
    "ACDM = gdina(resp, q.matrix=q, rule='ACDM', maxit=maxit, progress=progress)\n",
    "LCDM = gdina(resp, q.matrix=q, link=\"logit\", maxit=maxit, progress=progress)\n",
    "GDINA = gdina(resp, q.matrix=q, rule='GDINA', maxit=maxit, progress=progress)"
   ]
  },
  {
   "cell_type": "code",
   "execution_count": null,
   "metadata": {
    "vscode": {
     "languageId": "r"
    }
   },
   "outputs": [
    {
     "name": "stdout",
     "output_type": "stream",
     "text": [
      "[1] \"DINA      Npars47     AIC:5630.72884309187      BIC:5804.80661940071\"\n",
      "[1] \"rRUM      Npars58     AIC:5694.02162251948      BIC:5908.84100604954\"\n",
      "[1] \"ACDM      Npars58     AIC:6003.51543811917      BIC:6218.33482164923\"\n",
      "[1] \"LCDM      Npars73     AIC:5772.62085879254      BIC:6042.99697944244\"\n",
      "[1] \"GDINA     Npars73     AIC:5648.84169847895      BIC:5919.21781912885\"\n"
     ]
    }
   ],
   "source": [
    "print(sprintf(\"DINA      Npars%s     AIC:%s      BIC:%s\", DINA$Npars, DINA$AIC, DINA$BIC))\n",
    "print(sprintf(\"rRUM      Npars%s     AIC:%s      BIC:%s\", rRUM$Npars, rRUM$AIC, rRUM$BIC))\n",
    "print(sprintf(\"ACDM      Npars%s     AIC:%s      BIC:%s\", ACDM$Npars, ACDM$AIC, ACDM$BIC))\n",
    "print(sprintf(\"LCDM      Npars%s     AIC:%s      BIC:%s\", LCDM$Npars, LCDM$AIC, LCDM$BIC))\n",
    "print(sprintf(\"GDINA     Npars%s     AIC:%s      BIC:%s\", GDINA$Npars, GDINA$AIC, GDINA$BIC))"
   ]
  },
  {
   "cell_type": "code",
   "execution_count": null,
   "metadata": {
    "vscode": {
     "languageId": "r"
    }
   },
   "outputs": [],
   "source": []
  }
 ],
 "metadata": {
  "kernelspec": {
   "display_name": "R",
   "language": "R",
   "name": "ir"
  },
  "language_info": {
   "codemirror_mode": "r",
   "file_extension": ".r",
   "mimetype": "text/x-r-source",
   "name": "R",
   "pygments_lexer": "r",
   "version": "4.2.1"
  },
  "orig_nbformat": 4
 },
 "nbformat": 4,
 "nbformat_minor": 2
}
